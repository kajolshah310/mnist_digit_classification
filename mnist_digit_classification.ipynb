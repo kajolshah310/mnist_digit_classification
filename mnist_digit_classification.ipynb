{
 "cells": [
  {
   "cell_type": "code",
   "execution_count": 46,
   "metadata": {},
   "outputs": [],
   "source": [
    "import pandas as pd\n",
    "import numpy as np\n",
    "import matplotlib.pyplot as plt\n",
    "from tensorflow.keras import preprocessing"
   ]
  },
  {
   "cell_type": "code",
   "execution_count": 53,
   "metadata": {},
   "outputs": [],
   "source": [
    "#import function from keras for creating NN model\n",
    "from keras.models import Sequential\n",
    "from keras.layers import Dense, Flatten, SimpleRNN, LSTM\n",
    "from keras.layers.embeddings import Embedding\n",
    "from keras.optimizers import SGD\n"
   ]
  },
  {
   "cell_type": "code",
   "execution_count": 89,
   "metadata": {},
   "outputs": [],
   "source": [
    "#load mnist dataset\n",
    "from keras.datasets import mnist\n",
    "from keras.utils import to_categorical\n",
    "from keras import Input\n",
    "from keras.optimizers import Adam"
   ]
  },
  {
   "cell_type": "code",
   "execution_count": 90,
   "metadata": {},
   "outputs": [],
   "source": [
    "#splitting the data into train and test\n",
    "(x_train2, y_train2), (x_test2, y_test2) = mnist.load_data()"
   ]
  },
  {
   "cell_type": "code",
   "execution_count": 91,
   "metadata": {},
   "outputs": [
    {
     "name": "stdout",
     "output_type": "stream",
     "text": [
      "(60000, 28, 28)\n",
      "(10000, 28, 28)\n",
      "(60000,)\n",
      "(10000,)\n"
     ]
    }
   ],
   "source": [
    "#print the shape of the train and test variables\n",
    "print(x_train2.shape)\n",
    "print(x_test2.shape)\n",
    "print(y_train2.shape)\n",
    "print(y_test2.shape)"
   ]
  },
  {
   "cell_type": "code",
   "execution_count": 92,
   "metadata": {},
   "outputs": [],
   "source": [
    "#splitting training data into training and validation\n",
    "x_val2 = x_train2[:5000]\n",
    "x_train2 = x_train2[5000:]\n",
    "y_val2 = y_train2[:5000]\n",
    "y_train2 = y_train2[5000:]"
   ]
  },
  {
   "cell_type": "code",
   "execution_count": 93,
   "metadata": {},
   "outputs": [
    {
     "name": "stdout",
     "output_type": "stream",
     "text": [
      "(55000, 28, 28)\n",
      "(55000,)\n",
      "(5000, 28, 28)\n",
      "(5000,)\n"
     ]
    }
   ],
   "source": [
    "#print the shape of the train and validation variables\n",
    "print(x_train2.shape)\n",
    "print(y_train2.shape)\n",
    "print(x_val2.shape)\n",
    "print(y_val2.shape)"
   ]
  },
  {
   "cell_type": "code",
   "execution_count": 94,
   "metadata": {},
   "outputs": [
    {
     "data": {
      "text/plain": [
       "3"
      ]
     },
     "execution_count": 94,
     "metadata": {},
     "output_type": "execute_result"
    }
   ],
   "source": [
    "x_train2.ndim"
   ]
  },
  {
   "cell_type": "code",
   "execution_count": 95,
   "metadata": {},
   "outputs": [],
   "source": [
    "x_train2 = x_train2.astype('float32')\n",
    "x_test2 = x_test2.astype('float32')\n",
    "x_val2 = x_val2.astype('float32')\n",
    "x_train2, x_test2, x_val2 = x_train2 / 255.0, x_test2 / 255.0, x_val2 / 255.0\n",
    "\n",
    "#one hot encoding for the classes\n",
    "y_train2 = to_categorical(y_train2, 10)\n",
    "y_val2 = to_categorical(y_val2, 10)\n",
    "y_test2 = to_categorical(y_test2, 10)\n"
   ]
  },
  {
   "cell_type": "code",
   "execution_count": 96,
   "metadata": {},
   "outputs": [],
   "source": [
    "#reshape the training variables to make them 3 dimensional\n",
    "#x_train2 = x_train2.reshape(x_train2.shape[0],28,28,1)\n",
    "#x_test2 = x_test2.reshape(x_test2.shape[0],28,28,1)\n",
    "#x_val2 = x_val2.reshape(x_val2.shape[0],28,28,1)\n",
    "#x_train2.shape"
   ]
  },
  {
   "cell_type": "code",
   "execution_count": 97,
   "metadata": {},
   "outputs": [
    {
     "name": "stdout",
     "output_type": "stream",
     "text": [
      "Model: \"sequential_16\"\n",
      "_________________________________________________________________\n",
      "Layer (type)                 Output Shape              Param #   \n",
      "=================================================================\n",
      "simple_rnn_7 (SimpleRNN)     (None, 100)               12900     \n",
      "_________________________________________________________________\n",
      "dense_16 (Dense)             (None, 10)                1010      \n",
      "=================================================================\n",
      "Total params: 13,910\n",
      "Trainable params: 13,910\n",
      "Non-trainable params: 0\n",
      "_________________________________________________________________\n"
     ]
    }
   ],
   "source": [
    "mn_model = Sequential()\n",
    "#mn_model.add(Input(shape=(28,28)))\n",
    "#mn_model.add(Embedding(max_features, 128, input_length = maxlen))\n",
    "#mn_model.add(Flatten())\n",
    "#sc_model.add(Dense(500, activation = 'relu'))\n",
    "#mn_model.add(Flatten(input_shape=x_train2.shape[1:]))\n",
    "mn_model.add(SimpleRNN(100, activation = 'relu', input_shape = (28, 28)))\n",
    "mn_model.add(Dense(10, activation = 'sigmoid'))\n",
    "#defining learning rate for stochastic gradient descent\n",
    "#sgd = SGD(lr = 0.01)\n",
    "#compiling the model\n",
    "mn_model.compile(optimizer = 'Adam', loss='categorical_crossentropy', metrics = ['accuracy'])\n",
    "mn_model.summary()\n"
   ]
  },
  {
   "cell_type": "code",
   "execution_count": 98,
   "metadata": {},
   "outputs": [
    {
     "name": "stdout",
     "output_type": "stream",
     "text": [
      "Train on 55000 samples, validate on 5000 samples\n",
      "Epoch 1/10\n",
      " - 7s - loss: 0.7388 - acc: 0.7568 - val_loss: 0.3191 - val_acc: 0.9072\n",
      "Epoch 2/10\n",
      " - 5s - loss: 0.2751 - acc: 0.9194 - val_loss: 0.1860 - val_acc: 0.9470\n",
      "Epoch 3/10\n",
      " - 5s - loss: 0.1990 - acc: 0.9423 - val_loss: 0.2052 - val_acc: 0.9378\n",
      "Epoch 4/10\n",
      " - 5s - loss: 0.1685 - acc: 0.9515 - val_loss: 0.1395 - val_acc: 0.9592\n",
      "Epoch 5/10\n",
      " - 5s - loss: 0.1632 - acc: 0.9533 - val_loss: 0.1569 - val_acc: 0.9576\n",
      "Epoch 6/10\n",
      " - 5s - loss: 0.1374 - acc: 0.9604 - val_loss: 0.1390 - val_acc: 0.9606\n",
      "Epoch 7/10\n",
      " - 5s - loss: 0.1202 - acc: 0.9656 - val_loss: 0.1055 - val_acc: 0.9718\n",
      "Epoch 8/10\n",
      " - 5s - loss: 0.1169 - acc: 0.9664 - val_loss: 0.1357 - val_acc: 0.9640\n",
      "Epoch 9/10\n",
      " - 5s - loss: 0.1109 - acc: 0.9682 - val_loss: 0.1016 - val_acc: 0.9720\n",
      "Epoch 10/10\n",
      " - 5s - loss: 0.1001 - acc: 0.9713 - val_loss: 0.1198 - val_acc: 0.9670\n"
     ]
    }
   ],
   "source": [
    "#fitting and evaluating the model\n",
    "training_hist3 = mn_model.fit(x_train2, y_train2, batch_size=100, epochs = 10, verbose = 2, validation_data = (x_val2, y_val2))"
   ]
  },
  {
   "cell_type": "code",
   "execution_count": 99,
   "metadata": {
    "scrolled": true
   },
   "outputs": [
    {
     "data": {
      "text/plain": [
       "Text(0, 0.5, 'loss')"
      ]
     },
     "execution_count": 99,
     "metadata": {},
     "output_type": "execute_result"
    },
    {
     "data": {
      "image/png": "[encoded data removed]",
      "text/plain": [
       "<Figure size 432x288 with 1 Axes>"
      ]
     },
     "metadata": {
      "needs_background": "light"
     },
     "output_type": "display_data"
    }
   ],
   "source": [
    "#Plot training and validation loss\n",
    "plt.plot(training_hist3.history['loss'])\n",
    "plt.plot(training_hist3.history['val_loss'])\n",
    "plt.title('Training & Validation loss')\n",
    "plt.legend(['training', 'validation'], loc='upper right')\n",
    "plt.xlabel('epoch')\n",
    "plt.ylabel('loss')"
   ]
  },
  {
   "cell_type": "code",
   "execution_count": 107,
   "metadata": {},
   "outputs": [
    {
     "data": {
      "text/plain": [
       "Text(0, 0.5, 'accuracy')"
      ]
     },
     "execution_count": 107,
     "metadata": {},
     "output_type": "execute_result"
    },
    {
     "data": {
      "image/png": "[encoded data removed]",
      "text/plain": [
       "<Figure size 432x288 with 1 Axes>"
      ]
     },
     "metadata": {
      "needs_background": "light"
     },
     "output_type": "display_data"
    }
   ],
   "source": [
    "plt.plot(training_hist3.history['acc'])\n",
    "plt.plot(training_hist3.history['val_acc'])\n",
    "plt.title('Training & Validation accuracy')\n",
    "plt.legend(['training', 'validation'], loc='upper right')\n",
    "plt.xlabel('epoch')\n",
    "plt.ylabel('accuracy')"
   ]
  },
  {
   "cell_type": "code",
   "execution_count": 100,
   "metadata": {},
   "outputs": [
    {
     "name": "stdout",
     "output_type": "stream",
     "text": [
      "10000/10000 [==============================] - 1s 85us/step\n",
      "Loss  0.1361474711123854\n",
      "Accuracy score: 0.9633\n"
     ]
    }
   ],
   "source": [
    "#accuracy score for SimpleRNN model\n",
    "loss_accuracy_score3 = mn_model.evaluate(x_test2, y_test2)\n",
    "print(\"Loss \", loss_accuracy_score3[0] )\n",
    "print(\"Accuracy score:\",loss_accuracy_score3[1])"
   ]
  },
  {
   "cell_type": "code",
   "execution_count": 101,
   "metadata": {},
   "outputs": [
    {
     "name": "stdout",
     "output_type": "stream",
     "text": [
      "Model: \"sequential_17\"\n",
      "_________________________________________________________________\n",
      "Layer (type)                 Output Shape              Param #   \n",
      "=================================================================\n",
      "lstm_10 (LSTM)               (None, 100)               51600     \n",
      "_________________________________________________________________\n",
      "dense_17 (Dense)             (None, 10)                1010      \n",
      "=================================================================\n",
      "Total params: 52,610\n",
      "Trainable params: 52,610\n",
      "Non-trainable params: 0\n",
      "_________________________________________________________________\n"
     ]
    }
   ],
   "source": [
    "mn_model2 = Sequential()\n",
    "mn_model2.add(LSTM(100, activation = 'tanh', input_shape = (28, 28)))\n",
    "mn_model2.add(Dense(10, activation = 'sigmoid'))\n",
    "#defining learning rate for stochastic gradient descent\n",
    "#sgd = SGD(lr = 0.01)\n",
    "#compiling the model\n",
    "mn_model2.compile(optimizer = 'Adam', loss='categorical_crossentropy', metrics = ['accuracy'])\n",
    "mn_model2.summary()\n"
   ]
  },
  {
   "cell_type": "code",
   "execution_count": 102,
   "metadata": {},
   "outputs": [
    {
     "name": "stdout",
     "output_type": "stream",
     "text": [
      "Train on 55000 samples, validate on 5000 samples\n",
      "Epoch 1/10\n",
      " - 17s - loss: 0.6365 - acc: 0.7996 - val_loss: 0.2116 - val_acc: 0.9410\n",
      "Epoch 2/10\n",
      " - 14s - loss: 0.1753 - acc: 0.9484 - val_loss: 0.1431 - val_acc: 0.9580\n",
      "Epoch 3/10\n",
      " - 15s - loss: 0.1218 - acc: 0.9642 - val_loss: 0.0956 - val_acc: 0.9718\n",
      "Epoch 4/10\n",
      " - 14s - loss: 0.0982 - acc: 0.9707 - val_loss: 0.0795 - val_acc: 0.9770\n",
      "Epoch 5/10\n",
      " - 14s - loss: 0.0805 - acc: 0.9757 - val_loss: 0.0785 - val_acc: 0.9794\n",
      "Epoch 6/10\n",
      " - 16s - loss: 0.0681 - acc: 0.9800 - val_loss: 0.0604 - val_acc: 0.9832\n",
      "Epoch 7/10\n",
      " - 17s - loss: 0.0600 - acc: 0.9821 - val_loss: 0.0634 - val_acc: 0.9818\n",
      "Epoch 8/10\n",
      " - 17s - loss: 0.0533 - acc: 0.9841 - val_loss: 0.0558 - val_acc: 0.9832\n",
      "Epoch 9/10\n",
      " - 15s - loss: 0.0458 - acc: 0.9867 - val_loss: 0.0624 - val_acc: 0.9830\n",
      "Epoch 10/10\n",
      " - 18s - loss: 0.0396 - acc: 0.9878 - val_loss: 0.0471 - val_acc: 0.9852\n"
     ]
    }
   ],
   "source": [
    "#fitting and evaluating the model\n",
    "training_hist4 = mn_model2.fit(x_train2, y_train2, batch_size=100, epochs = 10, verbose = 2, validation_data = (x_val2, y_val2))"
   ]
  },
  {
   "cell_type": "code",
   "execution_count": 103,
   "metadata": {},
   "outputs": [
    {
     "data": {
      "text/plain": [
       "Text(0, 0.5, 'loss')"
      ]
     },
     "execution_count": 103,
     "metadata": {},
     "output_type": "execute_result"
    },
    {
     "data": {
      "image/png": "[encoded data removed]",
      "text/plain": [
       "<Figure size 432x288 with 1 Axes>"
      ]
     },
     "metadata": {
      "needs_background": "light"
     },
     "output_type": "display_data"
    }
   ],
   "source": [
    "#Plot training and validation loss\n",
    "plt.plot(training_hist4.history['loss'])\n",
    "plt.plot(training_hist4.history['val_loss'])\n",
    "plt.title('Training & Validation loss')\n",
    "plt.legend(['training', 'validation'], loc='upper right')\n",
    "plt.xlabel('epoch')\n",
    "plt.ylabel('loss')"
   ]
  },
  {
   "cell_type": "code",
   "execution_count": 108,
   "metadata": {},
   "outputs": [
    {
     "data": {
      "text/plain": [
       "Text(0, 0.5, 'accuracy')"
      ]
     },
     "execution_count": 108,
     "metadata": {},
     "output_type": "execute_result"
    },
    {
     "data": {
      "image/png": "[encoded data removed]",
      "text/plain": [
       "<Figure size 432x288 with 1 Axes>"
      ]
     },
     "metadata": {
      "needs_background": "light"
     },
     "output_type": "display_data"
    }
   ],
   "source": [
    "#plotting training and validation accuracy\n",
    "plt.plot(training_hist4.history['acc'])\n",
    "plt.plot(training_hist4.history['val_acc'])\n",
    "plt.title('Training & Validation accuracy')\n",
    "plt.legend(['training', 'validation'], loc='upper right')\n",
    "plt.xlabel('epoch')\n",
    "plt.ylabel('accuracy')"
   ]
  },
  {
   "cell_type": "code",
   "execution_count": 104,
   "metadata": {},
   "outputs": [
    {
     "name": "stdout",
     "output_type": "stream",
     "text": [
      "10000/10000 [==============================] - 2s 164us/step\n",
      "Loss  0.051273446225374934\n",
      "Accuracy score: 0.9847\n"
     ]
    }
   ],
   "source": [
    "#accuracy score for LSTM model\n",
    "loss_accuracy_score4 = mn_model2.evaluate(x_test2, y_test2)\n",
    "print(\"Loss \", loss_accuracy_score4[0] )\n",
    "print(\"Accuracy score:\",loss_accuracy_score4[1])"
   ]
  },
  {
   "cell_type": "markdown",
   "metadata": {},
   "source": [
    "After comparing the results of both the models(i.e. one using SimpleRNN and one using LSTM), I found that the training accuracy of SimpleRNN model was good also performed well on test data whereas the training accuracy of LSTM model was also good and it performed well on test data too. It has accuracy slightly greater than RNN model"
   ]
  }
 ],
 "metadata": {
  "kernelspec": {
   "display_name": "Python 3 (ipykernel)",
   "language": "python",
   "name": "python3"
  },
  "language_info": {
   "codemirror_mode": {
    "name": "ipython",
    "version": 3
   },
   "file_extension": ".py",
   "mimetype": "text/x-python",
   "name": "python",
   "nbconvert_exporter": "python",
   "pygments_lexer": "ipython3",
   "version": "3.9.7"
  }
 },
 "nbformat": 4,
 "nbformat_minor": 2
}
